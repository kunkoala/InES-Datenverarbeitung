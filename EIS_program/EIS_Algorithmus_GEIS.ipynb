{
 "cells": [
  {
   "cell_type": "markdown",
   "id": "a553f34d",
   "metadata": {},
   "source": [
    "# Necessary Imports"
   ]
  },
  {
   "cell_type": "code",
   "execution_count": 9,
   "id": "3fa9c357",
   "metadata": {},
   "outputs": [],
   "source": [
    "import pandas as pd\n",
    "import numpy as np\n",
    "import matplotlib.pyplot as plt\n",
    "import seaborn as sns"
   ]
  },
  {
   "cell_type": "code",
   "execution_count": 10,
   "id": "799a8ddf",
   "metadata": {},
   "outputs": [],
   "source": [
    "import sys\n",
    "sys.path.insert(1, 'readmpr_EIS')\n",
    "import numpy\n",
    "numpy.set_printoptions(threshold=sys.maxsize)"
   ]
  },
  {
   "cell_type": "code",
   "execution_count": 11,
   "id": "8e1d276c",
   "metadata": {},
   "outputs": [],
   "source": [
    "from galvani import BioLogic\n",
    "from read_mpr import searchmpr, splitToLoops, mpr_to_pandas\n",
    "# searchmpr(filepath, contains) (optional parameters) -> returns all .mpr file within filepath / if it contains smth\n",
    "# mpr_pandas convert the .mpr files into pandas dataframes\n",
    "# splitToLoops(df) split the converted dataframe into respective loop\n",
    "\n",
    "from EIS_DataProcessing import generateNewColumn, generateNewColumnVar2, selectMeasureColumn, mergeDfs\n",
    "# filter data and generate new column for label"
   ]
  },
  {
   "cell_type": "markdown",
   "id": "aeaa8a05",
   "metadata": {},
   "source": [
    "# Data Processing\n",
    "\n",
    "importing .mpr datas and convert them into pandas dataframe, fixing the data and finally split into respective loops."
   ]
  },
  {
   "cell_type": "code",
   "execution_count": 7,
   "id": "13669d74",
   "metadata": {},
   "outputs": [],
   "source": [
    "files = searchmpr(\"./GEIS\")\n",
    "dfs = mpr_to_pandas(files, \"./GEIS\")"
   ]
  },
  {
   "cell_type": "code",
   "execution_count": 8,
   "id": "c3ca5250",
   "metadata": {},
   "outputs": [
    {
     "data": {
      "text/html": [
       "<div>\n",
       "<style scoped>\n",
       "    .dataframe tbody tr th:only-of-type {\n",
       "        vertical-align: middle;\n",
       "    }\n",
       "\n",
       "    .dataframe tbody tr th {\n",
       "        vertical-align: top;\n",
       "    }\n",
       "\n",
       "    .dataframe thead th {\n",
       "        text-align: right;\n",
       "    }\n",
       "</style>\n",
       "<table border=\"1\" class=\"dataframe\">\n",
       "  <thead>\n",
       "    <tr style=\"text-align: right;\">\n",
       "      <th></th>\n",
       "      <th>freq/Hz</th>\n",
       "      <th>Re(Z)/Ohm</th>\n",
       "      <th>-Im(Z)/Ohm</th>\n",
       "      <th>|Z|/Ohm</th>\n",
       "      <th>Phase(Z)/deg</th>\n",
       "      <th>time/s</th>\n",
       "      <th>Ewe/V</th>\n",
       "      <th>I/mA</th>\n",
       "      <th>Cs/µF</th>\n",
       "      <th>Cp/µF</th>\n",
       "      <th>cycle number</th>\n",
       "      <th>|Ewe|/V</th>\n",
       "      <th>|I|/A</th>\n",
       "      <th>I Range</th>\n",
       "    </tr>\n",
       "  </thead>\n",
       "  <tbody>\n",
       "    <tr>\n",
       "      <th>0</th>\n",
       "      <td>10001.000000</td>\n",
       "      <td>20.116896</td>\n",
       "      <td>672.406189</td>\n",
       "      <td>672.707031</td>\n",
       "      <td>-88.286346</td>\n",
       "      <td>6.338000e+00</td>\n",
       "      <td>0.004219</td>\n",
       "      <td>-0.001763</td>\n",
       "      <td>0.023667</td>\n",
       "      <td>0.023646</td>\n",
       "      <td>0.0</td>\n",
       "      <td>0.003154</td>\n",
       "      <td>0.000005</td>\n",
       "      <td>117</td>\n",
       "    </tr>\n",
       "    <tr>\n",
       "      <th>1</th>\n",
       "      <td>6740.000000</td>\n",
       "      <td>576.129150</td>\n",
       "      <td>936.676025</td>\n",
       "      <td>1099.675781</td>\n",
       "      <td>-58.405228</td>\n",
       "      <td>1.260800e+01</td>\n",
       "      <td>0.003156</td>\n",
       "      <td>-0.003312</td>\n",
       "      <td>0.025210</td>\n",
       "      <td>0.018290</td>\n",
       "      <td>0.0</td>\n",
       "      <td>0.005320</td>\n",
       "      <td>0.000005</td>\n",
       "      <td>117</td>\n",
       "    </tr>\n",
       "    <tr>\n",
       "      <th>2</th>\n",
       "      <td>4541.999512</td>\n",
       "      <td>780.680786</td>\n",
       "      <td>1205.806519</td>\n",
       "      <td>1436.465088</td>\n",
       "      <td>-57.079586</td>\n",
       "      <td>1.887400e+01</td>\n",
       "      <td>0.009140</td>\n",
       "      <td>0.000473</td>\n",
       "      <td>0.029060</td>\n",
       "      <td>0.020477</td>\n",
       "      <td>0.0</td>\n",
       "      <td>0.007004</td>\n",
       "      <td>0.000005</td>\n",
       "      <td>117</td>\n",
       "    </tr>\n",
       "    <tr>\n",
       "      <th>3</th>\n",
       "      <td>3061.000977</td>\n",
       "      <td>1052.983398</td>\n",
       "      <td>1524.199707</td>\n",
       "      <td>1852.554688</td>\n",
       "      <td>-55.361599</td>\n",
       "      <td>2.513600e+01</td>\n",
       "      <td>0.007566</td>\n",
       "      <td>-0.002180</td>\n",
       "      <td>0.034113</td>\n",
       "      <td>0.023092</td>\n",
       "      <td>0.0</td>\n",
       "      <td>0.009089</td>\n",
       "      <td>0.000005</td>\n",
       "      <td>117</td>\n",
       "    </tr>\n",
       "    <tr>\n",
       "      <th>4</th>\n",
       "      <td>2063.000488</td>\n",
       "      <td>1414.236328</td>\n",
       "      <td>1897.714111</td>\n",
       "      <td>2366.724121</td>\n",
       "      <td>-53.305363</td>\n",
       "      <td>3.139800e+01</td>\n",
       "      <td>0.012290</td>\n",
       "      <td>0.000498</td>\n",
       "      <td>0.040653</td>\n",
       "      <td>0.026137</td>\n",
       "      <td>0.0</td>\n",
       "      <td>0.011646</td>\n",
       "      <td>0.000005</td>\n",
       "      <td>117</td>\n",
       "    </tr>\n",
       "    <tr>\n",
       "      <th>...</th>\n",
       "      <td>...</td>\n",
       "      <td>...</td>\n",
       "      <td>...</td>\n",
       "      <td>...</td>\n",
       "      <td>...</td>\n",
       "      <td>...</td>\n",
       "      <td>...</td>\n",
       "      <td>...</td>\n",
       "      <td>...</td>\n",
       "      <td>...</td>\n",
       "      <td>...</td>\n",
       "      <td>...</td>\n",
       "      <td>...</td>\n",
       "      <td>...</td>\n",
       "    </tr>\n",
       "    <tr>\n",
       "      <th>355</th>\n",
       "      <td>0.048894</td>\n",
       "      <td>964.120178</td>\n",
       "      <td>239.924622</td>\n",
       "      <td>993.524780</td>\n",
       "      <td>-13.974398</td>\n",
       "      <td>2.122496e+06</td>\n",
       "      <td>0.012290</td>\n",
       "      <td>0.000492</td>\n",
       "      <td>13567.063477</td>\n",
       "      <td>791.185120</td>\n",
       "      <td>0.0</td>\n",
       "      <td>0.004688</td>\n",
       "      <td>0.000005</td>\n",
       "      <td>117</td>\n",
       "    </tr>\n",
       "    <tr>\n",
       "      <th>356</th>\n",
       "      <td>0.032596</td>\n",
       "      <td>1017.525024</td>\n",
       "      <td>265.055298</td>\n",
       "      <td>1051.480591</td>\n",
       "      <td>-14.600521</td>\n",
       "      <td>2.122649e+06</td>\n",
       "      <td>0.012566</td>\n",
       "      <td>0.000654</td>\n",
       "      <td>18421.095703</td>\n",
       "      <td>1170.539062</td>\n",
       "      <td>0.0</td>\n",
       "      <td>0.004980</td>\n",
       "      <td>0.000005</td>\n",
       "      <td>117</td>\n",
       "    </tr>\n",
       "    <tr>\n",
       "      <th>357</th>\n",
       "      <td>0.020955</td>\n",
       "      <td>1071.146484</td>\n",
       "      <td>302.079987</td>\n",
       "      <td>1112.927246</td>\n",
       "      <td>-15.749279</td>\n",
       "      <td>2.122877e+06</td>\n",
       "      <td>0.015637</td>\n",
       "      <td>0.004697</td>\n",
       "      <td>25142.910156</td>\n",
       "      <td>1852.362183</td>\n",
       "      <td>0.0</td>\n",
       "      <td>0.005233</td>\n",
       "      <td>0.000005</td>\n",
       "      <td>117</td>\n",
       "    </tr>\n",
       "    <tr>\n",
       "      <th>358</th>\n",
       "      <td>0.013970</td>\n",
       "      <td>1153.004761</td>\n",
       "      <td>340.049652</td>\n",
       "      <td>1202.103882</td>\n",
       "      <td>-16.432093</td>\n",
       "      <td>2.123213e+06</td>\n",
       "      <td>0.007526</td>\n",
       "      <td>-0.001604</td>\n",
       "      <td>33503.210938</td>\n",
       "      <td>2680.939941</td>\n",
       "      <td>0.0</td>\n",
       "      <td>0.005696</td>\n",
       "      <td>0.000005</td>\n",
       "      <td>117</td>\n",
       "    </tr>\n",
       "    <tr>\n",
       "      <th>359</th>\n",
       "      <td>0.009313</td>\n",
       "      <td>1222.826172</td>\n",
       "      <td>413.023956</td>\n",
       "      <td>1290.694580</td>\n",
       "      <td>-18.663004</td>\n",
       "      <td>2.123714e+06</td>\n",
       "      <td>0.009101</td>\n",
       "      <td>-0.002903</td>\n",
       "      <td>41375.644531</td>\n",
       "      <td>4236.900391</td>\n",
       "      <td>0.0</td>\n",
       "      <td>0.005979</td>\n",
       "      <td>0.000005</td>\n",
       "      <td>117</td>\n",
       "    </tr>\n",
       "  </tbody>\n",
       "</table>\n",
       "<p>360 rows × 14 columns</p>\n",
       "</div>"
      ],
      "text/plain": [
       "          freq/Hz    Re(Z)/Ohm   -Im(Z)/Ohm      |Z|/Ohm  Phase(Z)/deg  \\\n",
       "0    10001.000000    20.116896   672.406189   672.707031    -88.286346   \n",
       "1     6740.000000   576.129150   936.676025  1099.675781    -58.405228   \n",
       "2     4541.999512   780.680786  1205.806519  1436.465088    -57.079586   \n",
       "3     3061.000977  1052.983398  1524.199707  1852.554688    -55.361599   \n",
       "4     2063.000488  1414.236328  1897.714111  2366.724121    -53.305363   \n",
       "..            ...          ...          ...          ...           ...   \n",
       "355      0.048894   964.120178   239.924622   993.524780    -13.974398   \n",
       "356      0.032596  1017.525024   265.055298  1051.480591    -14.600521   \n",
       "357      0.020955  1071.146484   302.079987  1112.927246    -15.749279   \n",
       "358      0.013970  1153.004761   340.049652  1202.103882    -16.432093   \n",
       "359      0.009313  1222.826172   413.023956  1290.694580    -18.663004   \n",
       "\n",
       "           time/s     Ewe/V      I/mA         Cs/µF        Cp/µF  \\\n",
       "0    6.338000e+00  0.004219 -0.001763      0.023667     0.023646   \n",
       "1    1.260800e+01  0.003156 -0.003312      0.025210     0.018290   \n",
       "2    1.887400e+01  0.009140  0.000473      0.029060     0.020477   \n",
       "3    2.513600e+01  0.007566 -0.002180      0.034113     0.023092   \n",
       "4    3.139800e+01  0.012290  0.000498      0.040653     0.026137   \n",
       "..            ...       ...       ...           ...          ...   \n",
       "355  2.122496e+06  0.012290  0.000492  13567.063477   791.185120   \n",
       "356  2.122649e+06  0.012566  0.000654  18421.095703  1170.539062   \n",
       "357  2.122877e+06  0.015637  0.004697  25142.910156  1852.362183   \n",
       "358  2.123213e+06  0.007526 -0.001604  33503.210938  2680.939941   \n",
       "359  2.123714e+06  0.009101 -0.002903  41375.644531  4236.900391   \n",
       "\n",
       "     cycle number   |Ewe|/V     |I|/A  I Range  \n",
       "0             0.0  0.003154  0.000005      117  \n",
       "1             0.0  0.005320  0.000005      117  \n",
       "2             0.0  0.007004  0.000005      117  \n",
       "3             0.0  0.009089  0.000005      117  \n",
       "4             0.0  0.011646  0.000005      117  \n",
       "..            ...       ...       ...      ...  \n",
       "355           0.0  0.004688  0.000005      117  \n",
       "356           0.0  0.004980  0.000005      117  \n",
       "357           0.0  0.005233  0.000005      117  \n",
       "358           0.0  0.005696  0.000005      117  \n",
       "359           0.0  0.005979  0.000005      117  \n",
       "\n",
       "[360 rows x 14 columns]"
      ]
     },
     "execution_count": 8,
     "metadata": {},
     "output_type": "execute_result"
    }
   ],
   "source": [
    "dfs[0]"
   ]
  },
  {
   "cell_type": "code",
   "execution_count": 7,
   "id": "8892dcff",
   "metadata": {
    "scrolled": true
   },
   "outputs": [],
   "source": [
    "# select necessary columns and filter from original\n",
    "data_ = generateNewColumn(dfs, files)\n",
    "\n",
    "# full all columns\n",
    "data2_ = generateNewColumnVar2(dfs, files)"
   ]
  },
  {
   "cell_type": "code",
   "execution_count": 8,
   "id": "6defec0c",
   "metadata": {},
   "outputs": [],
   "source": [
    "# merge data\n",
    "merged = mergeDfs(data_)\n",
    "merged_full = mergeDfs(data2_)\n"
   ]
  },
  {
   "cell_type": "code",
   "execution_count": 9,
   "id": "d48bcc12",
   "metadata": {},
   "outputs": [
    {
     "data": {
      "text/html": [
       "<div>\n",
       "<style scoped>\n",
       "    .dataframe tbody tr th:only-of-type {\n",
       "        vertical-align: middle;\n",
       "    }\n",
       "\n",
       "    .dataframe tbody tr th {\n",
       "        vertical-align: top;\n",
       "    }\n",
       "\n",
       "    .dataframe thead th {\n",
       "        text-align: right;\n",
       "    }\n",
       "</style>\n",
       "<table border=\"1\" class=\"dataframe\">\n",
       "  <thead>\n",
       "    <tr style=\"text-align: right;\">\n",
       "      <th></th>\n",
       "      <th>freq/Hz</th>\n",
       "      <th>Re(Z)/Ohm</th>\n",
       "      <th>-Im(Z)/Ohm</th>\n",
       "      <th>|Z|/Ohm</th>\n",
       "      <th>Phase(Z)/deg</th>\n",
       "      <th>time/s</th>\n",
       "      <th>Ewe/V</th>\n",
       "      <th>I/mA</th>\n",
       "      <th>Cs/µF</th>\n",
       "      <th>Cp/µF</th>\n",
       "      <th>cycle number</th>\n",
       "      <th>|Ewe|/V</th>\n",
       "      <th>|I|/A</th>\n",
       "      <th>I Range</th>\n",
       "      <th>C-Rate</th>\n",
       "      <th>Loop</th>\n",
       "      <th>Stand</th>\n",
       "    </tr>\n",
       "  </thead>\n",
       "  <tbody>\n",
       "    <tr>\n",
       "      <th>0</th>\n",
       "      <td>10001.000000</td>\n",
       "      <td>20.116896</td>\n",
       "      <td>672.406189</td>\n",
       "      <td>672.707031</td>\n",
       "      <td>-88.286346</td>\n",
       "      <td>6.338000e+00</td>\n",
       "      <td>0.004219</td>\n",
       "      <td>-0.001763</td>\n",
       "      <td>0.023667</td>\n",
       "      <td>0.023646</td>\n",
       "      <td>0.0</td>\n",
       "      <td>0.003154</td>\n",
       "      <td>0.000005</td>\n",
       "      <td>117</td>\n",
       "      <td>20</td>\n",
       "      <td>1</td>\n",
       "      <td>0</td>\n",
       "    </tr>\n",
       "    <tr>\n",
       "      <th>1</th>\n",
       "      <td>6740.000000</td>\n",
       "      <td>576.129150</td>\n",
       "      <td>936.676025</td>\n",
       "      <td>1099.675781</td>\n",
       "      <td>-58.405228</td>\n",
       "      <td>1.260800e+01</td>\n",
       "      <td>0.003156</td>\n",
       "      <td>-0.003312</td>\n",
       "      <td>0.025210</td>\n",
       "      <td>0.018290</td>\n",
       "      <td>0.0</td>\n",
       "      <td>0.005320</td>\n",
       "      <td>0.000005</td>\n",
       "      <td>117</td>\n",
       "      <td>20</td>\n",
       "      <td>1</td>\n",
       "      <td>0</td>\n",
       "    </tr>\n",
       "    <tr>\n",
       "      <th>2</th>\n",
       "      <td>4541.999512</td>\n",
       "      <td>780.680786</td>\n",
       "      <td>1205.806519</td>\n",
       "      <td>1436.465088</td>\n",
       "      <td>-57.079586</td>\n",
       "      <td>1.887400e+01</td>\n",
       "      <td>0.009140</td>\n",
       "      <td>0.000473</td>\n",
       "      <td>0.029060</td>\n",
       "      <td>0.020477</td>\n",
       "      <td>0.0</td>\n",
       "      <td>0.007004</td>\n",
       "      <td>0.000005</td>\n",
       "      <td>117</td>\n",
       "      <td>20</td>\n",
       "      <td>1</td>\n",
       "      <td>0</td>\n",
       "    </tr>\n",
       "    <tr>\n",
       "      <th>3</th>\n",
       "      <td>3061.000977</td>\n",
       "      <td>1052.983398</td>\n",
       "      <td>1524.199707</td>\n",
       "      <td>1852.554688</td>\n",
       "      <td>-55.361599</td>\n",
       "      <td>2.513600e+01</td>\n",
       "      <td>0.007566</td>\n",
       "      <td>-0.002180</td>\n",
       "      <td>0.034113</td>\n",
       "      <td>0.023092</td>\n",
       "      <td>0.0</td>\n",
       "      <td>0.009089</td>\n",
       "      <td>0.000005</td>\n",
       "      <td>117</td>\n",
       "      <td>20</td>\n",
       "      <td>1</td>\n",
       "      <td>0</td>\n",
       "    </tr>\n",
       "    <tr>\n",
       "      <th>4</th>\n",
       "      <td>2063.000488</td>\n",
       "      <td>1414.236328</td>\n",
       "      <td>1897.714111</td>\n",
       "      <td>2366.724121</td>\n",
       "      <td>-53.305363</td>\n",
       "      <td>3.139800e+01</td>\n",
       "      <td>0.012290</td>\n",
       "      <td>0.000498</td>\n",
       "      <td>0.040653</td>\n",
       "      <td>0.026137</td>\n",
       "      <td>0.0</td>\n",
       "      <td>0.011646</td>\n",
       "      <td>0.000005</td>\n",
       "      <td>117</td>\n",
       "      <td>20</td>\n",
       "      <td>1</td>\n",
       "      <td>0</td>\n",
       "    </tr>\n",
       "    <tr>\n",
       "      <th>...</th>\n",
       "      <td>...</td>\n",
       "      <td>...</td>\n",
       "      <td>...</td>\n",
       "      <td>...</td>\n",
       "      <td>...</td>\n",
       "      <td>...</td>\n",
       "      <td>...</td>\n",
       "      <td>...</td>\n",
       "      <td>...</td>\n",
       "      <td>...</td>\n",
       "      <td>...</td>\n",
       "      <td>...</td>\n",
       "      <td>...</td>\n",
       "      <td>...</td>\n",
       "      <td>...</td>\n",
       "      <td>...</td>\n",
       "      <td>...</td>\n",
       "    </tr>\n",
       "    <tr>\n",
       "      <th>5755</th>\n",
       "      <td>0.048894</td>\n",
       "      <td>8086.163086</td>\n",
       "      <td>3818.345215</td>\n",
       "      <td>8942.359375</td>\n",
       "      <td>-25.277023</td>\n",
       "      <td>1.299431e+06</td>\n",
       "      <td>1.897831</td>\n",
       "      <td>0.004512</td>\n",
       "      <td>852.482544</td>\n",
       "      <td>155.428848</td>\n",
       "      <td>0.0</td>\n",
       "      <td>0.042442</td>\n",
       "      <td>0.000005</td>\n",
       "      <td>117</td>\n",
       "      <td>200</td>\n",
       "      <td>10</td>\n",
       "      <td>1</td>\n",
       "    </tr>\n",
       "    <tr>\n",
       "      <th>5756</th>\n",
       "      <td>0.032596</td>\n",
       "      <td>9039.537109</td>\n",
       "      <td>4365.077637</td>\n",
       "      <td>10038.283203</td>\n",
       "      <td>-25.775307</td>\n",
       "      <td>1.299584e+06</td>\n",
       "      <td>1.899681</td>\n",
       "      <td>0.004492</td>\n",
       "      <td>1118.561768</td>\n",
       "      <td>211.507141</td>\n",
       "      <td>0.0</td>\n",
       "      <td>0.047432</td>\n",
       "      <td>0.000005</td>\n",
       "      <td>117</td>\n",
       "      <td>200</td>\n",
       "      <td>10</td>\n",
       "      <td>1</td>\n",
       "    </tr>\n",
       "    <tr>\n",
       "      <th>5757</th>\n",
       "      <td>0.020955</td>\n",
       "      <td>10354.415039</td>\n",
       "      <td>4978.848633</td>\n",
       "      <td>11489.249023</td>\n",
       "      <td>-25.680250</td>\n",
       "      <td>1.299812e+06</td>\n",
       "      <td>1.828453</td>\n",
       "      <td>-0.001060</td>\n",
       "      <td>1525.487183</td>\n",
       "      <td>286.472626</td>\n",
       "      <td>0.0</td>\n",
       "      <td>0.054645</td>\n",
       "      <td>0.000005</td>\n",
       "      <td>117</td>\n",
       "      <td>200</td>\n",
       "      <td>10</td>\n",
       "      <td>1</td>\n",
       "    </tr>\n",
       "    <tr>\n",
       "      <th>5758</th>\n",
       "      <td>0.013970</td>\n",
       "      <td>11327.142578</td>\n",
       "      <td>5775.528809</td>\n",
       "      <td>12714.593750</td>\n",
       "      <td>-27.016306</td>\n",
       "      <td>1.300149e+06</td>\n",
       "      <td>1.826287</td>\n",
       "      <td>-0.004188</td>\n",
       "      <td>1972.590820</td>\n",
       "      <td>407.019806</td>\n",
       "      <td>0.0</td>\n",
       "      <td>0.059244</td>\n",
       "      <td>0.000005</td>\n",
       "      <td>117</td>\n",
       "      <td>200</td>\n",
       "      <td>10</td>\n",
       "      <td>1</td>\n",
       "    </tr>\n",
       "    <tr>\n",
       "      <th>5759</th>\n",
       "      <td>0.009313</td>\n",
       "      <td>13031.375000</td>\n",
       "      <td>6490.838867</td>\n",
       "      <td>14558.424805</td>\n",
       "      <td>-26.477581</td>\n",
       "      <td>1.300649e+06</td>\n",
       "      <td>1.922440</td>\n",
       "      <td>0.004108</td>\n",
       "      <td>2632.807861</td>\n",
       "      <td>523.349792</td>\n",
       "      <td>0.0</td>\n",
       "      <td>0.069342</td>\n",
       "      <td>0.000005</td>\n",
       "      <td>117</td>\n",
       "      <td>200</td>\n",
       "      <td>10</td>\n",
       "      <td>1</td>\n",
       "    </tr>\n",
       "  </tbody>\n",
       "</table>\n",
       "<p>5760 rows × 17 columns</p>\n",
       "</div>"
      ],
      "text/plain": [
       "           freq/Hz     Re(Z)/Ohm   -Im(Z)/Ohm       |Z|/Ohm  Phase(Z)/deg  \\\n",
       "0     10001.000000     20.116896   672.406189    672.707031    -88.286346   \n",
       "1      6740.000000    576.129150   936.676025   1099.675781    -58.405228   \n",
       "2      4541.999512    780.680786  1205.806519   1436.465088    -57.079586   \n",
       "3      3061.000977   1052.983398  1524.199707   1852.554688    -55.361599   \n",
       "4      2063.000488   1414.236328  1897.714111   2366.724121    -53.305363   \n",
       "...            ...           ...          ...           ...           ...   \n",
       "5755      0.048894   8086.163086  3818.345215   8942.359375    -25.277023   \n",
       "5756      0.032596   9039.537109  4365.077637  10038.283203    -25.775307   \n",
       "5757      0.020955  10354.415039  4978.848633  11489.249023    -25.680250   \n",
       "5758      0.013970  11327.142578  5775.528809  12714.593750    -27.016306   \n",
       "5759      0.009313  13031.375000  6490.838867  14558.424805    -26.477581   \n",
       "\n",
       "            time/s     Ewe/V      I/mA        Cs/µF       Cp/µF  cycle number  \\\n",
       "0     6.338000e+00  0.004219 -0.001763     0.023667    0.023646           0.0   \n",
       "1     1.260800e+01  0.003156 -0.003312     0.025210    0.018290           0.0   \n",
       "2     1.887400e+01  0.009140  0.000473     0.029060    0.020477           0.0   \n",
       "3     2.513600e+01  0.007566 -0.002180     0.034113    0.023092           0.0   \n",
       "4     3.139800e+01  0.012290  0.000498     0.040653    0.026137           0.0   \n",
       "...            ...       ...       ...          ...         ...           ...   \n",
       "5755  1.299431e+06  1.897831  0.004512   852.482544  155.428848           0.0   \n",
       "5756  1.299584e+06  1.899681  0.004492  1118.561768  211.507141           0.0   \n",
       "5757  1.299812e+06  1.828453 -0.001060  1525.487183  286.472626           0.0   \n",
       "5758  1.300149e+06  1.826287 -0.004188  1972.590820  407.019806           0.0   \n",
       "5759  1.300649e+06  1.922440  0.004108  2632.807861  523.349792           0.0   \n",
       "\n",
       "       |Ewe|/V     |I|/A  I Range  C-Rate  Loop  Stand  \n",
       "0     0.003154  0.000005      117      20     1      0  \n",
       "1     0.005320  0.000005      117      20     1      0  \n",
       "2     0.007004  0.000005      117      20     1      0  \n",
       "3     0.009089  0.000005      117      20     1      0  \n",
       "4     0.011646  0.000005      117      20     1      0  \n",
       "...        ...       ...      ...     ...   ...    ...  \n",
       "5755  0.042442  0.000005      117     200    10      1  \n",
       "5756  0.047432  0.000005      117     200    10      1  \n",
       "5757  0.054645  0.000005      117     200    10      1  \n",
       "5758  0.059244  0.000005      117     200    10      1  \n",
       "5759  0.069342  0.000005      117     200    10      1  \n",
       "\n",
       "[5760 rows x 17 columns]"
      ]
     },
     "execution_count": 9,
     "metadata": {},
     "output_type": "execute_result"
    }
   ],
   "source": [
    "merged_full"
   ]
  },
  {
   "cell_type": "markdown",
   "id": "39b1382f",
   "metadata": {},
   "source": [
    "# Imports for Algorithm"
   ]
  },
  {
   "cell_type": "code",
   "execution_count": 10,
   "id": "ab7e8c29",
   "metadata": {},
   "outputs": [],
   "source": [
    "from sklearn import svm\n",
    "from sklearn.model_selection import train_test_split\n",
    "\n",
    "from sklearn.metrics import classification_report\n",
    "from sklearn.metrics import accuracy_score\n",
    "from sklearn.metrics import f1_score\n",
    "\n",
    "# this method is in the sklearn.metrics package\n",
    "# print(classification_report(y_test, y_predict)) # only works for classification\n",
    "# accuracy of test"
   ]
  },
  {
   "cell_type": "markdown",
   "id": "1ecfdd04",
   "metadata": {},
   "source": [
    "### Divide the data as Train/Test set "
   ]
  },
  {
   "cell_type": "code",
   "execution_count": 11,
   "id": "97016a12",
   "metadata": {},
   "outputs": [],
   "source": [
    "X = merged[['freq/Hz','Re(Z)/Ohm', '-Im(Z)/Ohm']]\n",
    "y = merged['C-Rate'] # was wäre hier die richtige Y-Wert zur Klassifizieren?"
   ]
  },
  {
   "cell_type": "code",
   "execution_count": 12,
   "id": "bd34669c",
   "metadata": {},
   "outputs": [],
   "source": [
    "X_train, X_test, y_train, y_test = train_test_split(X, y, test_size=0.4)"
   ]
  },
  {
   "cell_type": "code",
   "execution_count": 13,
   "id": "5904d2d6",
   "metadata": {},
   "outputs": [
    {
     "data": {
      "text/plain": [
       "0.24739583333333334"
      ]
     },
     "execution_count": 13,
     "metadata": {},
     "output_type": "execute_result"
    }
   ],
   "source": [
    "# svm using rbf kernel\n",
    "\n",
    "rbf = svm.SVC(kernel='rbf', gamma=1, C=1).fit(X_train, y_train)\n",
    "rbf_pred = rbf.predict(X_test)\n",
    "rbf.score(X_test, y_test)"
   ]
  },
  {
   "cell_type": "code",
   "execution_count": 14,
   "id": "b8728200",
   "metadata": {},
   "outputs": [
    {
     "data": {
      "text/plain": [
       "0.3255208333333333"
      ]
     },
     "execution_count": 14,
     "metadata": {},
     "output_type": "execute_result"
    }
   ],
   "source": [
    "# svm using linear\n",
    "\n",
    "clf = svm.SVC(C=100).fit(X_train, y_train)\n",
    "clf_pred = clf.predict(X_test)\n",
    "clf.score(X_test, y_test)"
   ]
  },
  {
   "cell_type": "code",
   "execution_count": 15,
   "id": "d4e5944b",
   "metadata": {
    "scrolled": false
   },
   "outputs": [
    {
     "name": "stdout",
     "output_type": "stream",
     "text": [
      "RBF kernel classification report\n",
      "              precision    recall  f1-score   support\n",
      "\n",
      "          20       0.25      0.01      0.02       569\n",
      "          50       0.65      0.02      0.04       579\n",
      "         100       0.24      0.99      0.39       555\n",
      "         200       0.40      0.00      0.01       601\n",
      "\n",
      "    accuracy                           0.25      2304\n",
      "   macro avg       0.39      0.26      0.11      2304\n",
      "weighted avg       0.39      0.25      0.11      2304\n",
      "\n"
     ]
    }
   ],
   "source": [
    "print(\"RBF kernel classification report\")\n",
    "print(classification_report(y_test, rbf_pred))"
   ]
  },
  {
   "cell_type": "code",
   "execution_count": 16,
   "id": "567f7d46",
   "metadata": {},
   "outputs": [
    {
     "name": "stdout",
     "output_type": "stream",
     "text": [
      "Linear kernel classification report\n",
      "              precision    recall  f1-score   support\n",
      "\n",
      "          20       0.37      0.61      0.46       569\n",
      "          50       0.20      0.04      0.07       579\n",
      "         100       0.31      0.40      0.35       555\n",
      "         200       0.30      0.26      0.28       601\n",
      "\n",
      "    accuracy                           0.33      2304\n",
      "   macro avg       0.29      0.33      0.29      2304\n",
      "weighted avg       0.29      0.33      0.29      2304\n",
      "\n"
     ]
    }
   ],
   "source": [
    "print(\"Linear kernel classification report\")\n",
    "print(classification_report(y_test, clf_pred))"
   ]
  },
  {
   "cell_type": "code",
   "execution_count": 17,
   "id": "5ae1e1bd",
   "metadata": {},
   "outputs": [],
   "source": [
    "## result of the first test = low accuracy with existing data."
   ]
  },
  {
   "cell_type": "markdown",
   "id": "9dbc6a74",
   "metadata": {},
   "source": [
    "#### 2nd label"
   ]
  },
  {
   "cell_type": "code",
   "execution_count": 18,
   "id": "605da6e2",
   "metadata": {},
   "outputs": [],
   "source": [
    "X2 = merged[['freq/Hz','Re(Z)/Ohm', '-Im(Z)/Ohm', 'C-Rate']]\n",
    "y2 = merged['Loop'] # was wäre hier die richtige Y-Wert zur Klassifizieren?"
   ]
  },
  {
   "cell_type": "code",
   "execution_count": 19,
   "id": "ccc1b732",
   "metadata": {},
   "outputs": [],
   "source": [
    "X2_train, X2_test, y2_train, y2_test = train_test_split(X2, y2, test_size=0.2)"
   ]
  },
  {
   "cell_type": "code",
   "execution_count": 20,
   "id": "2813d361",
   "metadata": {},
   "outputs": [],
   "source": [
    "rbf2 = svm.SVC(kernel='rbf', gamma=1, C=1).fit(X2_train, y2_train)\n",
    "rbf2_pred = rbf2.predict(X2_test)"
   ]
  },
  {
   "cell_type": "code",
   "execution_count": 21,
   "id": "2faaf340",
   "metadata": {},
   "outputs": [],
   "source": [
    "# linear\n",
    "\n",
    "clf2 = svm.SVC()\n",
    "clf2.fit(X2_train, y2_train)\n",
    "clf2_pred = clf2.predict(X2_test)"
   ]
  },
  {
   "cell_type": "code",
   "execution_count": 22,
   "id": "a2765dd5",
   "metadata": {},
   "outputs": [
    {
     "data": {
      "text/plain": [
       "0.09635416666666667"
      ]
     },
     "execution_count": 22,
     "metadata": {},
     "output_type": "execute_result"
    }
   ],
   "source": [
    "accuracy_score(y2_test, rbf2_pred)"
   ]
  },
  {
   "cell_type": "code",
   "execution_count": 23,
   "id": "1b08529f",
   "metadata": {},
   "outputs": [
    {
     "data": {
      "text/plain": [
       "0.16319444444444445"
      ]
     },
     "execution_count": 23,
     "metadata": {},
     "output_type": "execute_result"
    }
   ],
   "source": [
    "accuracy_score(y2_test, clf2_pred)"
   ]
  },
  {
   "cell_type": "code",
   "execution_count": 24,
   "id": "3341f983",
   "metadata": {},
   "outputs": [
    {
     "name": "stdout",
     "output_type": "stream",
     "text": [
      "RBF kernel classification report 2\n",
      "              precision    recall  f1-score   support\n",
      "\n",
      "           1       0.00      0.00      0.00       121\n",
      "           2       0.09      0.99      0.17       108\n",
      "           3       0.00      0.00      0.00       113\n",
      "           4       0.00      0.00      0.00       121\n",
      "           5       0.50      0.01      0.02       111\n",
      "           6       0.00      0.00      0.00       111\n",
      "           7       0.50      0.02      0.03       117\n",
      "           8       0.00      0.00      0.00       111\n",
      "           9       0.00      0.00      0.00       126\n",
      "          10       0.25      0.01      0.02       113\n",
      "\n",
      "    accuracy                           0.10      1152\n",
      "   macro avg       0.13      0.10      0.02      1152\n",
      "weighted avg       0.13      0.10      0.02      1152\n",
      "\n"
     ]
    },
    {
     "name": "stderr",
     "output_type": "stream",
     "text": [
      "C:\\Users\\azhar\\anaconda3\\lib\\site-packages\\sklearn\\metrics\\_classification.py:1248: UndefinedMetricWarning: Precision and F-score are ill-defined and being set to 0.0 in labels with no predicted samples. Use `zero_division` parameter to control this behavior.\n",
      "  _warn_prf(average, modifier, msg_start, len(result))\n",
      "C:\\Users\\azhar\\anaconda3\\lib\\site-packages\\sklearn\\metrics\\_classification.py:1248: UndefinedMetricWarning: Precision and F-score are ill-defined and being set to 0.0 in labels with no predicted samples. Use `zero_division` parameter to control this behavior.\n",
      "  _warn_prf(average, modifier, msg_start, len(result))\n",
      "C:\\Users\\azhar\\anaconda3\\lib\\site-packages\\sklearn\\metrics\\_classification.py:1248: UndefinedMetricWarning: Precision and F-score are ill-defined and being set to 0.0 in labels with no predicted samples. Use `zero_division` parameter to control this behavior.\n",
      "  _warn_prf(average, modifier, msg_start, len(result))\n"
     ]
    }
   ],
   "source": [
    "print(\"RBF kernel classification report 2\")\n",
    "print(classification_report(y2_test, rbf2_pred))"
   ]
  },
  {
   "cell_type": "code",
   "execution_count": 25,
   "id": "ca776330",
   "metadata": {},
   "outputs": [
    {
     "name": "stdout",
     "output_type": "stream",
     "text": [
      "Linear kernel classification report\n",
      "              precision    recall  f1-score   support\n",
      "\n",
      "           1       0.91      0.48      0.63       121\n",
      "           2       0.14      0.31      0.19       108\n",
      "           3       0.11      0.13      0.12       113\n",
      "           4       0.00      0.00      0.00       121\n",
      "           5       0.11      0.68      0.19       111\n",
      "           6       0.00      0.00      0.00       111\n",
      "           7       0.00      0.00      0.00       117\n",
      "           8       0.10      0.02      0.03       111\n",
      "           9       0.00      0.00      0.00       126\n",
      "          10       0.25      0.04      0.08       113\n",
      "\n",
      "    accuracy                           0.16      1152\n",
      "   macro avg       0.16      0.17      0.12      1152\n",
      "weighted avg       0.16      0.16      0.12      1152\n",
      "\n"
     ]
    },
    {
     "name": "stderr",
     "output_type": "stream",
     "text": [
      "C:\\Users\\azhar\\anaconda3\\lib\\site-packages\\sklearn\\metrics\\_classification.py:1248: UndefinedMetricWarning: Precision and F-score are ill-defined and being set to 0.0 in labels with no predicted samples. Use `zero_division` parameter to control this behavior.\n",
      "  _warn_prf(average, modifier, msg_start, len(result))\n",
      "C:\\Users\\azhar\\anaconda3\\lib\\site-packages\\sklearn\\metrics\\_classification.py:1248: UndefinedMetricWarning: Precision and F-score are ill-defined and being set to 0.0 in labels with no predicted samples. Use `zero_division` parameter to control this behavior.\n",
      "  _warn_prf(average, modifier, msg_start, len(result))\n",
      "C:\\Users\\azhar\\anaconda3\\lib\\site-packages\\sklearn\\metrics\\_classification.py:1248: UndefinedMetricWarning: Precision and F-score are ill-defined and being set to 0.0 in labels with no predicted samples. Use `zero_division` parameter to control this behavior.\n",
      "  _warn_prf(average, modifier, msg_start, len(result))\n"
     ]
    }
   ],
   "source": [
    "print(\"Linear kernel classification report\")\n",
    "print(classification_report(y2_test, clf2_pred))"
   ]
  },
  {
   "cell_type": "markdown",
   "id": "86060678",
   "metadata": {},
   "source": [
    "### Try 2 - adding more features to predict the loop label"
   ]
  },
  {
   "cell_type": "code",
   "execution_count": 72,
   "id": "5f6587e6",
   "metadata": {},
   "outputs": [],
   "source": [
    "X3 = merged_full[['freq/Hz', 'Re(Z)/Ohm', '-Im(Z)/Ohm', 'time/s','|Z|/Ohm', 'C-Rate']]\n",
    "y3 = merged_full['Loop']"
   ]
  },
  {
   "cell_type": "code",
   "execution_count": 73,
   "id": "efc6414a",
   "metadata": {},
   "outputs": [],
   "source": [
    "X3_train, X3_test, y3_train, y3_test = train_test_split(X3, y3, test_size=0.2)"
   ]
  },
  {
   "cell_type": "code",
   "execution_count": 74,
   "id": "80c68253",
   "metadata": {},
   "outputs": [],
   "source": [
    "model3 = svm.SVC().fit(X3_train, y3_train)\n",
    "model3_pred = model3.predict(X3_test)"
   ]
  },
  {
   "cell_type": "code",
   "execution_count": 75,
   "id": "cc14e985",
   "metadata": {},
   "outputs": [
    {
     "data": {
      "text/plain": [
       "0.6067708333333334"
      ]
     },
     "execution_count": 75,
     "metadata": {},
     "output_type": "execute_result"
    }
   ],
   "source": [
    "accuracy_score(y3_test, model3_pred)"
   ]
  },
  {
   "cell_type": "code",
   "execution_count": 76,
   "id": "731b6e64",
   "metadata": {},
   "outputs": [
    {
     "name": "stdout",
     "output_type": "stream",
     "text": [
      "RBF kernel classification report\n",
      "              precision    recall  f1-score   support\n",
      "\n",
      "           1       1.00      0.90      0.95       114\n",
      "           2       0.89      0.88      0.88       105\n",
      "           3       0.89      0.67      0.76       117\n",
      "           4       0.58      0.58      0.58       104\n",
      "           5       0.52      0.45      0.48       105\n",
      "           6       0.57      0.45      0.50       115\n",
      "           7       0.54      0.47      0.50       130\n",
      "           8       0.50      0.44      0.47       121\n",
      "           9       0.46      0.36      0.41       122\n",
      "          10       0.42      0.92      0.58       119\n",
      "\n",
      "    accuracy                           0.61      1152\n",
      "   macro avg       0.64      0.61      0.61      1152\n",
      "weighted avg       0.63      0.61      0.61      1152\n",
      "\n"
     ]
    }
   ],
   "source": [
    "print(\"RBF kernel classification report\")\n",
    "print(classification_report(y3_test, model3_pred))"
   ]
  },
  {
   "cell_type": "markdown",
   "id": "501656ca",
   "metadata": {},
   "source": [
    "#### Stand"
   ]
  },
  {
   "cell_type": "code",
   "execution_count": 59,
   "id": "e3d20606",
   "metadata": {},
   "outputs": [],
   "source": [
    "X4 = merged_full[['freq/Hz', 'Re(Z)/Ohm', '-Im(Z)/Ohm', 'time/s','|Z|/Ohm']]\n",
    "y4 = merged_full['C-Rate']\n",
    "\n",
    "X4_train, X4_test, y4_train, y4_test = train_test_split(X4, y4, test_size=0.2)"
   ]
  },
  {
   "cell_type": "code",
   "execution_count": 63,
   "id": "5d5cbe76",
   "metadata": {},
   "outputs": [],
   "source": [
    "model4 = svm.SVC().fit(X4_train, y4_train)"
   ]
  },
  {
   "cell_type": "code",
   "execution_count": 64,
   "id": "a25fc4de",
   "metadata": {},
   "outputs": [],
   "source": [
    "model4_pred = model4.predict(X4_test)"
   ]
  },
  {
   "cell_type": "code",
   "execution_count": 65,
   "id": "6e7c534a",
   "metadata": {},
   "outputs": [
    {
     "data": {
      "text/plain": [
       "0.3532986111111111"
      ]
     },
     "execution_count": 65,
     "metadata": {},
     "output_type": "execute_result"
    }
   ],
   "source": [
    "accuracy_score(y4_test, model4_pred)"
   ]
  },
  {
   "cell_type": "code",
   "execution_count": 66,
   "id": "f40b0e31",
   "metadata": {},
   "outputs": [
    {
     "name": "stdout",
     "output_type": "stream",
     "text": [
      "Model 4 classification report\n",
      "              precision    recall  f1-score   support\n",
      "\n",
      "          20       0.76      0.39      0.52       282\n",
      "          50       0.24      0.10      0.14       284\n",
      "         100       0.27      0.19      0.22       283\n",
      "         200       0.31      0.71      0.43       303\n",
      "\n",
      "    accuracy                           0.35      1152\n",
      "   macro avg       0.40      0.35      0.33      1152\n",
      "weighted avg       0.39      0.35      0.33      1152\n",
      "\n"
     ]
    }
   ],
   "source": [
    "print(\"Model 4 classification report\")\n",
    "print(classification_report(y4_test, model4_pred))"
   ]
  },
  {
   "cell_type": "code",
   "execution_count": null,
   "id": "18828747",
   "metadata": {},
   "outputs": [],
   "source": []
  }
 ],
 "metadata": {
  "kernelspec": {
   "display_name": "Python 3",
   "language": "python",
   "name": "python3"
  },
  "language_info": {
   "codemirror_mode": {
    "name": "ipython",
    "version": 3
   },
   "file_extension": ".py",
   "mimetype": "text/x-python",
   "name": "python",
   "nbconvert_exporter": "python",
   "pygments_lexer": "ipython3",
   "version": "3.8.8"
  }
 },
 "nbformat": 4,
 "nbformat_minor": 5
}
