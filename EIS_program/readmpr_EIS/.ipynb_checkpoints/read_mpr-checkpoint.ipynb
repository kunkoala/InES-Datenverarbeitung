{
 "cells": [
  {
   "cell_type": "code",
   "execution_count": 26,
   "id": "0a333c61",
   "metadata": {},
   "outputs": [],
   "source": [
    "# thanks to echemdata (https://github.com/echemdata/galvani) \n",
    "# for source code of converting mpr files to python readable file."
   ]
  },
  {
   "cell_type": "code",
   "execution_count": 45,
   "id": "b05a7080",
   "metadata": {},
   "outputs": [],
   "source": [
    "from galvani import BioLogic\n",
    "from galvani import MPRfile\n",
    "import pandas as pd\n",
    "import os"
   ]
  },
  {
   "cell_type": "code",
   "execution_count": 28,
   "id": "6bacc026",
   "metadata": {},
   "outputs": [],
   "source": [
    "# search mpr in current directory.\n",
    "# can provide filepath and file contains some string\n",
    "# will use current path if filepath not explicitly given\n",
    "# will defaultly search for .mpr \n",
    "def searchmpr(filepath=\".\", contains=\"\"):\n",
    "    files = []\n",
    "    for file in os.listdir(filepath):\n",
    "        if file.endswith(\".mpr\") and contains in file: # take all the files that ends with .mpr format and append the file into the list\n",
    "            files.append(file)\n",
    "    return files # return list of files with .mpr format"
   ]
  },
  {
   "cell_type": "code",
   "execution_count": 56,
   "id": "e2509755",
   "metadata": {},
   "outputs": [],
   "source": [
    "# read mpr files in a directory\n",
    "# if unspecified, dir will be in the same as .py dir\n",
    "# example below\n",
    "\n",
    "def readMPR(mprfiles, MPRdirectory=\".\"):\n",
    "    MPRfiles = []\n",
    "    for filename in mprfiles:\n",
    "        MPRfiles.append(BioLogic.MPRfile(MPRdirectory+\"/\"+filename))\n",
    "    return MPRfiles"
   ]
  },
  {
   "cell_type": "code",
   "execution_count": 50,
   "id": "95e0352d",
   "metadata": {},
   "outputs": [],
   "source": [
    "def convertToPandasDF(mpr_files_list):\n",
    "    dataframes = []\n",
    "    for mpr_file in mpr_files_list: \n",
    "        if isinstance(mpr_file, MPRfile):\n",
    "            dataframes.append(pd.DataFrame(mpr_file.data))\n",
    "    return dataframes "
   ]
  },
  {
   "cell_type": "code",
   "execution_count": 30,
   "id": "c20f3c83",
   "metadata": {},
   "outputs": [],
   "source": [
    "def splitToLoops(df, indexToSplit):\n",
    "    dataframes = []\n",
    "    splits = int(len(df)/indexToSplit)\n",
    "    start = 0\n",
    "    end = indexToSplit\n",
    "    for split in range(splits):\n",
    "        temporary_df = df.iloc[start:end]\n",
    "        dataframes.append(temporary_df)\n",
    "        start += indexToSplit\n",
    "        end += indexToSplit\n",
    "    return dataframes\n",
    "\n",
    "# usage:\n",
    "# splitToLoops(dataframe, index)"
   ]
  },
  {
   "cell_type": "code",
   "execution_count": 64,
   "id": "f301df26",
   "metadata": {},
   "outputs": [],
   "source": [
    "### all in one function ###\n",
    "\n",
    "def mpr_to_pandas(filenames, path):\n",
    "    df = convertToPandasDF(readMPR(filenames, path))\n",
    "    return df"
   ]
  },
  {
   "cell_type": "code",
   "execution_count": null,
   "id": "db6d0193",
   "metadata": {},
   "outputs": [],
   "source": []
  }
 ],
 "metadata": {
  "kernelspec": {
   "display_name": "Python 3",
   "language": "python",
   "name": "python3"
  },
  "language_info": {
   "codemirror_mode": {
    "name": "ipython",
    "version": 3
   },
   "file_extension": ".py",
   "mimetype": "text/x-python",
   "name": "python",
   "nbconvert_exporter": "python",
   "pygments_lexer": "ipython3",
   "version": "3.8.8"
  }
 },
 "nbformat": 4,
 "nbformat_minor": 5
}
