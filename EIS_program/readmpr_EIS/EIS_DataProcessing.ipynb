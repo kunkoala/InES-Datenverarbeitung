{
 "cells": [
  {
   "cell_type": "code",
   "execution_count": 1,
   "id": "237b3624",
   "metadata": {},
   "outputs": [],
   "source": [
    "from galvani import BioLogic\n",
    "import pandas as pd\n",
    "import numpy as np\n",
    "import os\n",
    "import re"
   ]
  },
  {
   "cell_type": "code",
   "execution_count": 2,
   "id": "614f26ae",
   "metadata": {},
   "outputs": [],
   "source": [
    "from galvani import BioLogic\n",
    "from read_mpr import searchmpr, mpr_pandas, splitToLoops"
   ]
  },
  {
   "cell_type": "code",
   "execution_count": 3,
   "id": "61e03b7e",
   "metadata": {},
   "outputs": [],
   "source": [
    "regex = re.compile(r'\\d+')"
   ]
  },
  {
   "cell_type": "code",
   "execution_count": 4,
   "id": "aeafa309",
   "metadata": {},
   "outputs": [],
   "source": [
    "def insertLoopColumn(df):\n",
    "    # make array first with integer datatype\n",
    "    a = np.zeros(len(df)).astype(int)\n",
    "\n",
    "    # insert num of splits below\n",
    "    split = 36 \n",
    "\n",
    "    # loopNum\n",
    "    loopNum = 1\n",
    "\n",
    "    for index in range(len(a)):\n",
    "        if index % split == 0 and index != 0:\n",
    "            loopNum += 1\n",
    "        a[index] = loopNum\n",
    "\n",
    "    df.insert(len(df.columns), 'Loop', a)"
   ]
  },
  {
   "cell_type": "code",
   "execution_count": 5,
   "id": "1b4bb6f0",
   "metadata": {},
   "outputs": [],
   "source": [
    "def insertCharge(df, filename):\n",
    "    intsInFilename = [int(x) for x in regex.findall(filename)]\n",
    "    charge = intsInFilename[1]\n",
    "    df.insert(len(df.columns), 'C-Rate', charge)"
   ]
  },
  {
   "cell_type": "code",
   "execution_count": 6,
   "id": "3ed8c25c",
   "metadata": {},
   "outputs": [],
   "source": [
    "def batteryStatus(df, filename):  \n",
    "    stand = [int(x) for x in regex.findall(filename)][-2]\n",
    "    if stand == 1:\n",
    "        df.insert(len(df.columns), 'Stand', 0) \n",
    "    elif stand == 3:\n",
    "        df.insert(len(df.columns), 'Stand', 1)"
   ]
  },
  {
   "cell_type": "code",
   "execution_count": 11,
   "id": "004a23ed",
   "metadata": {},
   "outputs": [],
   "source": [
    "def mergeDfs(dfs):\n",
    "    merged = pd.concat(dfs, ignore_index=True)\n",
    "    return merged"
   ]
  },
  {
   "cell_type": "code",
   "execution_count": 7,
   "id": "61d08d14",
   "metadata": {},
   "outputs": [],
   "source": [
    "def selectMeasureColumn(dfs):\n",
    "    df_selected = []\n",
    "    for df in dfs:\n",
    "        df_selected.append(df[['freq/Hz', 'Re(Z)/Ohm', '-Im(Z)/Ohm']])\n",
    "    return df_selected"
   ]
  },
  {
   "cell_type": "code",
   "execution_count": 8,
   "id": "92e23bcd",
   "metadata": {},
   "outputs": [],
   "source": [
    "def generateNewColumn(dfs, files):\n",
    "    df_newcol = selectMeasureColumn(dfs)\n",
    "    for count, df in enumerate(df_newcol):\n",
    "        insertCharge(df, files[count])\n",
    "        insertLoopColumn(df)\n",
    "        batteryStatus(df, files[count])\n",
    "    return df_newcol"
   ]
  },
  {
   "cell_type": "code",
   "execution_count": 12,
   "id": "d31e7219",
   "metadata": {},
   "outputs": [],
   "source": [
    "def generateNewColumnVar2(dfs, files):\n",
    "    for count, df in enumerate(dfs):\n",
    "        insertCharge(df, files[count])\n",
    "        insertLoopColumn(df)\n",
    "        batteryStatus(df, files[count])\n",
    "    return dfs"
   ]
  },
  {
   "cell_type": "code",
   "execution_count": null,
   "id": "c5ae5cd6",
   "metadata": {},
   "outputs": [],
   "source": []
  }
 ],
 "metadata": {
  "kernelspec": {
   "display_name": "Python 3 (ipykernel)",
   "language": "python",
   "name": "python3"
  },
  "language_info": {
   "codemirror_mode": {
    "name": "ipython",
    "version": 3
   },
   "file_extension": ".py",
   "mimetype": "text/x-python",
   "name": "python",
   "nbconvert_exporter": "python",
   "pygments_lexer": "ipython3",
   "version": "3.9.7"
  }
 },
 "nbformat": 4,
 "nbformat_minor": 5
}
