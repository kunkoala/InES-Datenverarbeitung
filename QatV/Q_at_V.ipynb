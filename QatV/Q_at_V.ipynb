{
 "cells": [
  {
   "cell_type": "code",
   "execution_count": 449,
   "id": "a50c6de3",
   "metadata": {},
   "outputs": [],
   "source": [
    "import pymysql\n",
    "import pandas as pd\n",
    "import numpy as np\n",
    "import os\n",
    "from sqlalchemy import create_engine\n",
    "from glob import glob"
   ]
  },
  {
   "cell_type": "markdown",
   "id": "80625920",
   "metadata": {},
   "source": [
    "## Q at V"
   ]
  },
  {
   "cell_type": "code",
   "execution_count": 447,
   "id": "cc77805a",
   "metadata": {},
   "outputs": [],
   "source": [
    "datafilespath = glob('EIS/raw_data/form/*.mpr')\n",
    "datafilespath =  [os.path.basename(x) for x in datafilespath]\n",
    "database = np.unique([x.split('_')[0] for x in datafilespath])"
   ]
  },
  {
   "cell_type": "code",
   "execution_count": 457,
   "id": "aecec434",
   "metadata": {
    "scrolled": false
   },
   "outputs": [
    {
     "name": "stdout",
     "output_type": "stream",
     "text": [
      "created table q_at_v for Cell001\n",
      "created table q_at_v for Cell002\n",
      "created table q_at_v for Cell003\n",
      "created table q_at_v for Cell004\n",
      "created table q_at_v for Cell005\n",
      "created table q_at_v for Cell006\n",
      "created table q_at_v for Cell007\n",
      "created table q_at_v for Cell008\n",
      "success!\n"
     ]
    }
   ],
   "source": [
    "# query data from MySQL\n",
    "##cell001, gcpl, structure 2\n",
    "dbhost='127.0.0.1'\n",
    "dbport=3306\n",
    "dbuser='root'\n",
    "dbpassword='Acakeren13!'\n",
    "connection_name='SSB_Modelling'\n",
    "db=database\n",
    "\n",
    "\n",
    "\n",
    "V_Interval = [1, 1.5, 2]\n",
    "\n",
    "for cell in db:\n",
    "    Connection = pymysql.connect(host=dbhost,\n",
    "                          port=dbport,\n",
    "                          user=dbuser,\n",
    "                          password =dbpassword,\n",
    "                          database=cell)\n",
    "\n",
    "    dfs = []\n",
    "    for i in V_Interval:     \n",
    "        #formation\n",
    "        sql = 'SELECT `Ewe/V`, `cycle_Nr`, `Q charge/discharge/mA.h`, `half cycle` FROM {}.form_gcpl'.format(cell)\n",
    "        cell_df = pd.read_sql(sql, Connection)\n",
    "        cell_Qdischarge = cell_df[cell_df['half cycle'] == 1]\n",
    "        cell_Qcharge = cell_df[cell_df['half cycle'] == 0]\n",
    "        cycle_Nr = np.unique(cell_df['cycle_Nr'])\n",
    "\n",
    "        QatV_form = pd.DataFrame(index=cycle_Nr)\n",
    "        charge = []\n",
    "        discharge = []\n",
    "        charge_col = 'Q at {}V charge'.format(i)\n",
    "        discharge_col = 'Q at {}V discharge'.format(i)\n",
    "        for cycle in cycle_Nr:\n",
    "            charge.append(cell_Qcharge['Q charge/discharge/mA.h'][(cell_Qcharge['Ewe/V'] > i) & (cell_Qcharge['cycle_Nr'] == cycle)].min())\n",
    "            discharge.append(cell_Qdischarge['Q charge/discharge/mA.h'][(cell_Qdischarge['Ewe/V'] > i) & (cell_Qdischarge['cycle_Nr'] == cycle)].min())\n",
    "\n",
    "        QatV_form[charge_col] = charge\n",
    "        QatV_form[discharge_col] = discharge\n",
    "\n",
    "\n",
    "        #cycling\n",
    "        sql = sql = 'SELECT `Ewe/V`, `cycle_Nr`, `Q charge/discharge/mA.h`, `half cycle` FROM {}.cyc_gcpl'.format(cell)\n",
    "        cell_df = pd.read_sql(sql, Connection)\n",
    "        cell_Qdischarge = cell_df[cell_df['half cycle'] == 1]\n",
    "        cell_Qcharge = cell_df[cell_df['half cycle'] == 0]\n",
    "        cycle_Nr = np.unique(cell_df['cycle_Nr'])\n",
    "        QatV_cyc = pd.DataFrame(index=cycle_Nr)\n",
    "        charge = []\n",
    "        discharge = []\n",
    "        charge_col = 'Q at {}V charge'.format(i)\n",
    "        discharge_col = 'Q at {}V discharge'.format(i)\n",
    "        for cycle in cycle_Nr:\n",
    "            charge.append(cell_Qcharge['Q charge/discharge/mA.h'][(cell_Qcharge['Ewe/V'] > i) & (cell_Qcharge['cycle_Nr'] == cycle)].min())\n",
    "            discharge.append(cell_Qdischarge['Q charge/discharge/mA.h'][(cell_Qdischarge['Ewe/V'] > i) & (cell_Qdischarge['cycle_Nr'] == cycle)].min())\n",
    "\n",
    "        QatV_cyc[charge_col] = charge\n",
    "        QatV_cyc[discharge_col] = discharge\n",
    "\n",
    "        dfs.append(pd.concat([QatV_form, QatV_cyc]))\n",
    "\n",
    "    QatV = pd.concat([dfs[0], dfs[1], dfs[2]], axis=1)\n",
    "    QatV.index.name = 'cycle'\n",
    "    engine = create_engine(\"mysql+pymysql://{user}:{pw}@{host}/{db}\".format(host=dbhost, db=cell, user=dbuser, pw=dbpassword))\n",
    "    QatV.to_sql('q_at_v', engine, if_exists='replace')\n",
    "    print('created table q_at_v for {}'.format(cell))\n",
    "print('success!')"
   ]
  }
 ],
 "metadata": {
  "kernelspec": {
   "display_name": "Python 3",
   "language": "python",
   "name": "python3"
  },
  "language_info": {
   "codemirror_mode": {
    "name": "ipython",
    "version": 3
   },
   "file_extension": ".py",
   "mimetype": "text/x-python",
   "name": "python",
   "nbconvert_exporter": "python",
   "pygments_lexer": "ipython3",
   "version": "3.8.8"
  }
 },
 "nbformat": 4,
 "nbformat_minor": 5
}
